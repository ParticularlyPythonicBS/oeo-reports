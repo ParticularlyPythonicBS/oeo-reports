{
  "cells": [
    {
      "cell_type": "markdown",
      "metadata": {},
      "source": [
        "---\n",
        "title: utopia Report Dashboard\n",
        "jupyter: python3\n",
        "\n",
        "format:\n",
        "    html:\n",
        "        code-fold: true\n",
        "---\n",
        "\n",
        "Here are the reports for the utopia dataset:\n",
        "\n",
        "- [Tables](tables.qmd)"
      ],
      "id": "9a1000c4"
    }
  ],
  "metadata": {
    "kernelspec": {
      "name": "python3",
      "language": "python",
      "display_name": "Python 3 (ipykernel)",
      "path": "/media/Secondary/Projects/oeo_reports/.venv/share/jupyter/kernels/python3"
    }
  },
  "nbformat": 4,
  "nbformat_minor": 5
}
