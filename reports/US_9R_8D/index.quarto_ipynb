{
  "cells": [
    {
      "cell_type": "markdown",
      "metadata": {},
      "source": [
        "---\n",
        "title: US_9R_8D Report Dashboard\n",
        "jupyter: python3\n",
        "\n",
        "format:\n",
        "    html:\n",
        "        code-fold: true\n",
        "---\n",
        "\n",
        "Here are the reports for the US_9R_8D dataset:\n",
        "\n",
        "- [Overview](overview.qmd)\n",
        "- [Electric Sector](ElectricSector.qmd)\n",
        "- [Buildings Sector](BuildingsSector.qmd)\n",
        "- [Tables](tables.qmd)"
      ],
      "id": "539857d6"
    }
  ],
  "metadata": {
    "kernelspec": {
      "name": "python3",
      "language": "python",
      "display_name": "Python 3 (ipykernel)",
      "path": "/media/Secondary/Projects/oeo_reports/.venv/share/jupyter/kernels/python3"
    }
  },
  "nbformat": 4,
  "nbformat_minor": 5
}
