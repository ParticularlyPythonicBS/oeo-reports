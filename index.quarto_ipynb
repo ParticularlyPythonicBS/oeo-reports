{
 "cells": [
  {
   "cell_type": "markdown",
   "id": "678077a7",
   "metadata": {},
   "source": [
    "---\n",
    "title: Welcome to the Report Dashboard\n",
    "jupyter: python3\n",
    "\n",
    "format:\n",
    "    html:\n",
    "        code-fold: true\n",
    "---\n",
    "\n",
    "This website contains automatically generated reports on OEO data\n",
    "\n",
    "New reports are added as new data becomes available. Please use the **Reports** menu in the navigation bar to view individual reports."
   ]
  }
 ],
 "metadata": {
  "kernelspec": {
   "display_name": "Python 3 (ipykernel)",
   "language": "python",
   "name": "python3",
   "path": "/media/Secondary/Projects/oeo_reports/.venv/share/jupyter/kernels/python3"
  },
  "language_info": {
   "codemirror_mode": {
    "name": "ipython",
    "version": 3
   },
   "file_extension": ".py",
   "mimetype": "text/x-python",
   "name": "python",
   "nbconvert_exporter": "python",
   "pygments_lexer": "ipython3",
   "version": "3.12.5"
  }
 },
 "nbformat": 4,
 "nbformat_minor": 5
}
