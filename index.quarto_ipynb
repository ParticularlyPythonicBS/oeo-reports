{
  "cells": [
    {
      "cell_type": "markdown",
      "metadata": {},
      "source": [
        "---\n",
        "title: Welcome to the Report Dashboard\n",
        "jupyter: python3\n",
        "\n",
        "format:\n",
        "    html:\n",
        "        code-fold: true\n",
        "---\n",
        "\n",
        "This website contains automatically generated reports on OEO data\n",
        "\n",
        "New reports are added as new data becomes available. Please use the **Reports** menu in the navigation bar to view individual reports."
      ],
      "id": "d4b1cbcf"
    }
  ],
  "metadata": {
    "kernelspec": {
      "name": "python3",
      "language": "python",
      "display_name": "Python 3 (ipykernel)",
      "path": "/media/Secondary/Projects/oeo_reports/.venv/share/jupyter/kernels/python3"
    }
  },
  "nbformat": 4,
  "nbformat_minor": 5
}
